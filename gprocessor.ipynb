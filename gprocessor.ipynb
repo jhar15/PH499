{
 "cells": [
  {
   "cell_type": "code",
   "execution_count": 1,
   "metadata": {},
   "outputs": [],
   "source": [
    "import math\n",
    "import torch\n",
    "import gpytorch\n",
    "import matplotlib.pyplot as plt"
   ]
  },
  {
   "cell_type": "code",
   "execution_count": 2,
   "metadata": {},
   "outputs": [],
   "source": [
    "# Training data is 100 points in [0,1] inclusive regularly spaced\n",
    "train_x = torch.linspace(0, 1, 100)\n",
    "\n",
    "# True function is sin(2*pi*x) with Gaussian noise\n",
    "train_y = torch.sin(train_x * (2 * math.pi)) + torch.randn(train_x.size()) * math.sqrt(0.04)"
   ]
  },
  {
   "cell_type": "code",
   "execution_count": 3,
   "metadata": {},
   "outputs": [],
   "source": [
    "#This is for quick construction of Gaussian Process\n",
    "\n",
    "#what do you need?\n",
    "\n",
    "#1. A GP model --> gpytorch.models.ExactGP, this handles inference\n",
    "#2. A likelihood --> gaussian (homoskedastic)\n",
    "#3. Mean --> Start with constant mean\n",
    "#4 Kernel\n",
    "#5 Multivariate normal distribution\n"
   ]
  },
  {
   "cell_type": "code",
   "execution_count": 4,
   "metadata": {},
   "outputs": [],
   "source": [
    "#GP model created by user needs\n",
    "\n",
    "#init (training data, likelihood) and constructs mean and kernel\n",
    "#forward"
   ]
  },
  {
   "cell_type": "code",
   "execution_count": 5,
   "metadata": {},
   "outputs": [],
   "source": [
    "class surrogate(gpytorch.models.ExactGP):\n",
    "    def __init__(self, train_x, train_y, likelihood):\n",
    "        super(surrogate,self).__init__(train_x,train_y,likelihood)\n",
    "        self.mean = gpytorch.means.ConstantMean()\n",
    "        self.covar = gpytorch.kernels.ScaleKernel(gpytorch.kernels.RBFKernel())\n",
    "\n",
    "    def forward(self, x):\n",
    "        mean = self.mean(x)\n",
    "        covar = self.covar(x)\n",
    "        return gpytorch.distributions.MultivariateNormal(mean,covar)"
   ]
  },
  {
   "cell_type": "code",
   "execution_count": 6,
   "metadata": {},
   "outputs": [],
   "source": [
    "# initialize likelihood and model\n",
    "likelihood = gpytorch.likelihoods.GaussianLikelihood() #homoskedastic noise\n",
    "surrogate = surrogate(train_x, train_y,likelihood)"
   ]
  },
  {
   "cell_type": "code",
   "execution_count": 7,
   "metadata": {},
   "outputs": [
    {
     "data": {
      "text/plain": [
       "surrogate(\n",
       "  (likelihood): GaussianLikelihood(\n",
       "    (noise_covar): HomoskedasticNoise(\n",
       "      (raw_noise_constraint): GreaterThan(1.000E-04)\n",
       "    )\n",
       "  )\n",
       "  (mean): ConstantMean()\n",
       "  (covar): ScaleKernel(\n",
       "    (base_kernel): RBFKernel(\n",
       "      (raw_lengthscale_constraint): Positive()\n",
       "    )\n",
       "    (raw_outputscale_constraint): Positive()\n",
       "  )\n",
       ")"
      ]
     },
     "execution_count": 7,
     "metadata": {},
     "output_type": "execute_result"
    }
   ],
   "source": [
    "surrogate.train()\n",
    "#sets model to training mode"
   ]
  },
  {
   "cell_type": "code",
   "execution_count": 8,
   "metadata": {},
   "outputs": [
    {
     "data": {
      "text/plain": [
       "gpytorch.likelihoods.gaussian_likelihood.GaussianLikelihood"
      ]
     },
     "execution_count": 8,
     "metadata": {},
     "output_type": "execute_result"
    }
   ],
   "source": [
    "type(likelihood.train())"
   ]
  },
  {
   "cell_type": "code",
   "execution_count": 9,
   "metadata": {},
   "outputs": [
    {
     "data": {
      "text/plain": [
       "__main__.surrogate"
      ]
     },
     "execution_count": 9,
     "metadata": {},
     "output_type": "execute_result"
    }
   ],
   "source": [
    "type(surrogate)"
   ]
  },
  {
   "cell_type": "code",
   "execution_count": 10,
   "metadata": {},
   "outputs": [
    {
     "data": {
      "text/plain": [
       "gpytorch.means.constant_mean.ConstantMean"
      ]
     },
     "execution_count": 10,
     "metadata": {},
     "output_type": "execute_result"
    }
   ],
   "source": [
    "type(surrogate.mean)"
   ]
  },
  {
   "cell_type": "code",
   "execution_count": 11,
   "metadata": {},
   "outputs": [
    {
     "data": {
      "text/plain": [
       "gpytorch.kernels.scale_kernel.ScaleKernel"
      ]
     },
     "execution_count": 11,
     "metadata": {},
     "output_type": "execute_result"
    }
   ],
   "source": [
    "type(surrogate.covar)"
   ]
  },
  {
   "cell_type": "markdown",
   "metadata": {},
   "source": [
    "Training"
   ]
  },
  {
   "cell_type": "code",
   "execution_count": 15,
   "metadata": {},
   "outputs": [],
   "source": [
    "\n",
    "\"\"\"Optimizer types:\n",
    "For general GP training → Use Adam (default, easy to tune).\n",
    "For smooth convergence and better local optima → Use L-BFGS.\n",
    "For large datasets or online learning → Use SGD.\n",
    "For noisy gradient settings → Use RMSprop or Adagrad (less common).\"\"\"\n",
    "\n",
    "\n",
    "def train(surrogate,train_x,train_y,training_iter):\n",
    "    \n",
    "    # Find optimal model hyperparameters\n",
    "    surrogate.train() #this doesn't actually train it just sets the surrogate into training mode\n",
    "    surrogate.likelihood.train()\n",
    "\n",
    "    # Use the adam optimizer\n",
    "    optimizer = torch.optim.Adam(surrogate.parameters(), lr=0.1)  # Includes GaussianLikelihood parameters\n",
    "\n",
    "    # \"Loss\" for GPs - the marginal log likelihood\n",
    "    mll = gpytorch.mlls.ExactMarginalLogLikelihood(likelihood, surrogate)\n",
    "\n",
    "    for i in range(training_iter):\n",
    "        \n",
    "        # Zero gradients from previous iteration\n",
    "        optimizer.zero_grad()\n",
    "       # Output from model\n",
    "        output = surrogate(train_x)\n",
    "        # Calc loss and backprop gradients\n",
    "        loss = -mll(output, train_y)\n",
    "        loss.backward()\n",
    "        \n",
    "        print('Iter %d/%d - Loss: %.3f   lengthscale: %.3f   noise: %.3f' % (\n",
    "            i + 1, training_iter, loss.item(),\n",
    "            surrogate.covar.base_kernel.lengthscale.item(),\n",
    "            surrogate.likelihood.noise.item()\n",
    "        ))\n",
    "        optimizer.step()"
   ]
  },
  {
   "cell_type": "code",
   "execution_count": 13,
   "metadata": {},
   "outputs": [
    {
     "data": {
      "text/plain": [
       "0.6931471824645996"
      ]
     },
     "execution_count": 13,
     "metadata": {},
     "output_type": "execute_result"
    }
   ],
   "source": [
    "surrogate.covar.base_kernel.lengthscale.item()"
   ]
  },
  {
   "cell_type": "code",
   "execution_count": null,
   "metadata": {},
   "outputs": [
    {
     "data": {
      "text/plain": [
       "gpytorch.distributions.multivariate_normal.MultivariateNormal"
      ]
     },
     "execution_count": 69,
     "metadata": {},
     "output_type": "execute_result"
    }
   ],
   "source": [
    "type(surrogate.forward(train_x))"
   ]
  },
  {
   "cell_type": "code",
   "execution_count": null,
   "metadata": {},
   "outputs": [
    {
     "data": {
      "text/plain": [
       "generator"
      ]
     },
     "execution_count": 70,
     "metadata": {},
     "output_type": "execute_result"
    }
   ],
   "source": [
    "type(surrogate.parameters())"
   ]
  },
  {
   "cell_type": "code",
   "execution_count": null,
   "metadata": {},
   "outputs": [
    {
     "data": {
      "text/plain": [
       "torch.Size([100])"
      ]
     },
     "execution_count": 71,
     "metadata": {},
     "output_type": "execute_result"
    }
   ],
   "source": [
    "(train_x).size()\n"
   ]
  },
  {
   "cell_type": "code",
   "execution_count": null,
   "metadata": {},
   "outputs": [
    {
     "data": {
      "text/plain": [
       "torch.Size([100])"
      ]
     },
     "execution_count": 72,
     "metadata": {},
     "output_type": "execute_result"
    }
   ],
   "source": [
    "surrogate.mean(train_x).size()"
   ]
  },
  {
   "cell_type": "code",
   "execution_count": null,
   "metadata": {},
   "outputs": [
    {
     "data": {
      "text/plain": [
       "[<matplotlib.lines.Line2D at 0x161f95880>]"
      ]
     },
     "execution_count": 73,
     "metadata": {},
     "output_type": "execute_result"
    },
    {
     "data": {
      "image/png": "[encoded data removed]",
      "text/plain": [
       "<Figure size 640x480 with 1 Axes>"
      ]
     },
     "metadata": {},
     "output_type": "display_data"
    }
   ],
   "source": [
    "plt.plot(train_x,surrogate.mean(train_x).detach()) #detach gets rid of gradients in surrogate.mean tensor\n",
    "plt.plot(train_x,train_y)"
   ]
  },
  {
   "cell_type": "code",
   "execution_count": null,
   "metadata": {},
   "outputs": [
    {
     "name": "stdout",
     "output_type": "stream",
     "text": [
      "tensor([0., 0., 0., 0., 0., 0., 0., 0., 0., 0., 0., 0., 0., 0., 0., 0., 0., 0., 0., 0., 0., 0., 0., 0.,\n",
      "        0., 0., 0., 0., 0., 0., 0., 0., 0., 0., 0., 0., 0., 0., 0., 0., 0., 0., 0., 0., 0., 0., 0., 0.,\n",
      "        0., 0., 0., 0., 0., 0., 0., 0., 0., 0., 0., 0., 0., 0., 0., 0., 0., 0., 0., 0., 0., 0., 0., 0.,\n",
      "        0., 0., 0., 0., 0., 0., 0., 0., 0., 0., 0., 0., 0., 0., 0., 0., 0., 0., 0., 0., 0., 0., 0., 0.,\n",
      "        0., 0., 0., 0.], grad_fn=<ExpandBackward0>)\n"
     ]
    }
   ],
   "source": [
    "print(surrogate.mean(train_x))\n"
   ]
  },
  {
   "cell_type": "code",
   "execution_count": null,
   "metadata": {},
   "outputs": [
    {
     "name": "stdout",
     "output_type": "stream",
     "text": [
      "tensor([0., 0., 0., 0., 0., 0., 0., 0., 0., 0., 0., 0., 0., 0., 0., 0., 0., 0., 0., 0., 0., 0., 0., 0.,\n",
      "        0., 0., 0., 0., 0., 0., 0., 0., 0., 0., 0., 0., 0., 0., 0., 0., 0., 0., 0., 0., 0., 0., 0., 0.,\n",
      "        0., 0., 0., 0., 0., 0., 0., 0., 0., 0., 0., 0., 0., 0., 0., 0., 0., 0., 0., 0., 0., 0., 0., 0.,\n",
      "        0., 0., 0., 0., 0., 0., 0., 0., 0., 0., 0., 0., 0., 0., 0., 0., 0., 0., 0., 0., 0., 0., 0., 0.,\n",
      "        0., 0., 0., 0.])\n"
     ]
    }
   ],
   "source": [
    "print(surrogate.mean(train_x).detach())\n"
   ]
  },
  {
   "cell_type": "code",
   "execution_count": null,
   "metadata": {},
   "outputs": [],
   "source": [
    "optimizer = torch.optim.Adam(surrogate.parameters(), lr = .01)\n"
   ]
  },
  {
   "cell_type": "code",
   "execution_count": null,
   "metadata": {},
   "outputs": [
    {
     "data": {
      "text/plain": [
       "gpytorch.mlls.exact_marginal_log_likelihood.ExactMarginalLogLikelihood"
      ]
     },
     "execution_count": 77,
     "metadata": {},
     "output_type": "execute_result"
    }
   ],
   "source": [
    "mll = gpytorch.mlls.ExactMarginalLogLikelihood(likelihood, surrogate)\n",
    "type(mll)"
   ]
  },
  {
   "cell_type": "code",
   "execution_count": 16,
   "metadata": {},
   "outputs": [
    {
     "name": "stdout",
     "output_type": "stream",
     "text": [
      "Iter 1/50 - Loss: 0.946   lengthscale: 0.693   noise: 0.693\n",
      "Iter 2/50 - Loss: 0.915   lengthscale: 0.644   noise: 0.644\n",
      "Iter 3/50 - Loss: 0.881   lengthscale: 0.598   noise: 0.598\n",
      "Iter 4/50 - Loss: 0.843   lengthscale: 0.555   noise: 0.554\n",
      "Iter 5/50 - Loss: 0.800   lengthscale: 0.514   noise: 0.513\n",
      "Iter 6/50 - Loss: 0.751   lengthscale: 0.476   noise: 0.474\n",
      "Iter 7/50 - Loss: 0.698   lengthscale: 0.439   noise: 0.437\n",
      "Iter 8/50 - Loss: 0.644   lengthscale: 0.405   noise: 0.402\n",
      "Iter 9/50 - Loss: 0.592   lengthscale: 0.372   noise: 0.369\n",
      "Iter 10/50 - Loss: 0.544   lengthscale: 0.342   noise: 0.339\n",
      "Iter 11/50 - Loss: 0.501   lengthscale: 0.315   noise: 0.310\n",
      "Iter 12/50 - Loss: 0.462   lengthscale: 0.292   noise: 0.284\n",
      "Iter 13/50 - Loss: 0.425   lengthscale: 0.271   noise: 0.259\n",
      "Iter 14/50 - Loss: 0.390   lengthscale: 0.255   noise: 0.236\n",
      "Iter 15/50 - Loss: 0.355   lengthscale: 0.241   noise: 0.215\n",
      "Iter 16/50 - Loss: 0.321   lengthscale: 0.230   noise: 0.196\n",
      "Iter 17/50 - Loss: 0.287   lengthscale: 0.222   noise: 0.178\n",
      "Iter 18/50 - Loss: 0.253   lengthscale: 0.216   noise: 0.162\n",
      "Iter 19/50 - Loss: 0.220   lengthscale: 0.211   noise: 0.147\n",
      "Iter 20/50 - Loss: 0.187   lengthscale: 0.209   noise: 0.134\n",
      "Iter 21/50 - Loss: 0.154   lengthscale: 0.208   noise: 0.121\n",
      "Iter 22/50 - Loss: 0.123   lengthscale: 0.208   noise: 0.110\n",
      "Iter 23/50 - Loss: 0.092   lengthscale: 0.210   noise: 0.100\n",
      "Iter 24/50 - Loss: 0.062   lengthscale: 0.213   noise: 0.091\n",
      "Iter 25/50 - Loss: 0.034   lengthscale: 0.217   noise: 0.083\n",
      "Iter 26/50 - Loss: 0.007   lengthscale: 0.222   noise: 0.075\n",
      "Iter 27/50 - Loss: -0.017   lengthscale: 0.228   noise: 0.068\n",
      "Iter 28/50 - Loss: -0.039   lengthscale: 0.235   noise: 0.062\n",
      "Iter 29/50 - Loss: -0.058   lengthscale: 0.243   noise: 0.057\n",
      "Iter 30/50 - Loss: -0.074   lengthscale: 0.250   noise: 0.052\n",
      "Iter 31/50 - Loss: -0.087   lengthscale: 0.258   noise: 0.048\n",
      "Iter 32/50 - Loss: -0.096   lengthscale: 0.267   noise: 0.044\n",
      "Iter 33/50 - Loss: -0.103   lengthscale: 0.274   noise: 0.041\n",
      "Iter 34/50 - Loss: -0.107   lengthscale: 0.282   noise: 0.038\n",
      "Iter 35/50 - Loss: -0.108   lengthscale: 0.288   noise: 0.036\n",
      "Iter 36/50 - Loss: -0.106   lengthscale: 0.294   noise: 0.034\n",
      "Iter 37/50 - Loss: -0.103   lengthscale: 0.298   noise: 0.032\n",
      "Iter 38/50 - Loss: -0.100   lengthscale: 0.301   noise: 0.030\n",
      "Iter 39/50 - Loss: -0.096   lengthscale: 0.302   noise: 0.029\n",
      "Iter 40/50 - Loss: -0.092   lengthscale: 0.301   noise: 0.028\n",
      "Iter 41/50 - Loss: -0.089   lengthscale: 0.299   noise: 0.027\n",
      "Iter 42/50 - Loss: -0.087   lengthscale: 0.296   noise: 0.027\n",
      "Iter 43/50 - Loss: -0.086   lengthscale: 0.291   noise: 0.027\n",
      "Iter 44/50 - Loss: -0.086   lengthscale: 0.286   noise: 0.027\n",
      "Iter 45/50 - Loss: -0.087   lengthscale: 0.281   noise: 0.027\n",
      "Iter 46/50 - Loss: -0.089   lengthscale: 0.275   noise: 0.027\n",
      "Iter 47/50 - Loss: -0.091   lengthscale: 0.270   noise: 0.027\n",
      "Iter 48/50 - Loss: -0.093   lengthscale: 0.265   noise: 0.028\n",
      "Iter 49/50 - Loss: -0.096   lengthscale: 0.261   noise: 0.028\n",
      "Iter 50/50 - Loss: -0.098   lengthscale: 0.257   noise: 0.029\n"
     ]
    }
   ],
   "source": [
    "train(surrogate,train_x,train_y,50)"
   ]
  },
  {
   "cell_type": "code",
   "execution_count": null,
   "metadata": {},
   "outputs": [],
   "source": []
  }
 ],
 "metadata": {
  "kernelspec": {
   "display_name": "base",
   "language": "python",
   "name": "python3"
  },
  "language_info": {
   "codemirror_mode": {
    "name": "ipython",
    "version": 3
   },
   "file_extension": ".py",
   "mimetype": "text/x-python",
   "name": "python",
   "nbconvert_exporter": "python",
   "pygments_lexer": "ipython3",
   "version": "3.12.4"
  }
 },
 "nbformat": 4,
 "nbformat_minor": 2
}
